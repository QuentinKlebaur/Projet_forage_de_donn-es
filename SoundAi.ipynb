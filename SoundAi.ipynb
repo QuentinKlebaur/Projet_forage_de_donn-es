{
 "cells": [
  {
   "cell_type": "code",
   "execution_count": null,
   "metadata": {},
   "outputs": [],
   "source": [
    "import pandas as pd\n",
    "import os\n",
    "from os import listdir\n",
    "import struct\n",
    "from scipy.io import wavfile as wav\n",
    "import matplotlib.pyplot as plt\n",
    "import IPython.display as ipd\n",
    "from keras.models import Sequential\n",
    "from keras.layers import Dense"
   ]
  },
  {
   "cell_type": "markdown",
   "metadata": {},
   "source": [
    "## Static variables"
   ]
  },
  {
   "cell_type": "code",
   "execution_count": null,
   "metadata": {},
   "outputs": [],
   "source": [
    "urban_sound_folder = \"../UrbanSound8k/\"\n",
    "us8k_table_file = \"metadata/UrbanSound8k.csv\"\n",
    "audio_folder = \"audio/\"\n",
    "\n",
    "us8k_data = pd.read_csv(urban_sound_folder + us8k_table_file)"
   ]
  },
  {
   "cell_type": "markdown",
   "metadata": {},
   "source": [
    "## Create refined data for AI training"
   ]
  },
  {
   "cell_type": "code",
   "execution_count": null,
   "metadata": {},
   "outputs": [],
   "source": [
    "def refine_sound(path):\n",
    "    try:\n",
    "        rate, wav_sample = wav.read(path)\n",
    "        wave_file = open(path,\"rb\")\n",
    "        riff_fmt = wave_file.read(36)\n",
    "        bit_depth_string = riff_fmt[-2:]\n",
    "        bit_depth = struct.unpack(\"H\",bit_depth_string)[0]\n",
    "        return [rate,\n",
    "            bit_depth,\n",
    "            wav_sample.shape[1],\n",
    "            wav_sample.shape[0]/rate,\n",
    "            len(wav_sample)]\n",
    "    except Exception:\n",
    "        return None\n",
    "\n",
    "def get_label(filename):\n",
    "    try:\n",
    "        return int(us8k_data[us8k_data['slice_file_name'] == filename]['classID'].values[0])\n",
    "    except Exception:\n",
    "        return None\n",
    "\n",
    "def get_fold_sounds(folder, data, labels):\n",
    "    for file in listdir(folder):\n",
    "        label = get_label(file)\n",
    "        if label != None:\n",
    "            sound_data = refine_sound(folder + file)\n",
    "            if sound_data != None:\n",
    "                data.append(sound_data)\n",
    "                labels.append(label)\n",
    "    return data, labels\n",
    "\n",
    "def get_all_sounds(folders):\n",
    "    data = []\n",
    "    labels = []\n",
    "    for i in folders:\n",
    "        data, labels = get_fold_sounds(urban_sound_folder + audio_folder + \"fold\" + str(i) + '/', data, labels)\n",
    "    return data, labels"
   ]
  },
  {
   "cell_type": "code",
   "execution_count": null,
   "metadata": {},
   "outputs": [],
   "source": [
    "# Folder to pick up sounds (From 1 to 11)\n",
    "fold = [1]\n",
    "\n",
    "# X is the training data and y the value of the data\n",
    "X, y = get_all_sounds(fold)\n",
    "print(\"Size: \", len(X))\n",
    "print(\"Size: \", len(y))\n",
    "input_dim = len(X[0])"
   ]
  },
  {
   "cell_type": "code",
   "execution_count": null,
   "metadata": {},
   "outputs": [],
   "source": [
    "print(X[0])\n",
    "print(y[0])"
   ]
  },
  {
   "cell_type": "markdown",
   "metadata": {},
   "source": [
    "## AI training"
   ]
  },
  {
   "cell_type": "code",
   "execution_count": null,
   "metadata": {},
   "outputs": [],
   "source": [
    "model = Sequential()\n",
    "model.add(Dense(12, input_dim=input_dim, activation='relu'))\n",
    "model.add(Dense(8, activation='relu'))\n",
    "model.add(Dense(1, activation='sigmoid'))\n",
    "# compile the keras model\n",
    "model.compile(loss='binary_crossentropy', optimizer='adam', metrics=['accuracy'])\n",
    "# fit the keras model on the dataset\n",
    "model.fit(X, y, epochs=150, batch_size=10)\n",
    "# evaluate the keras model\n",
    "_, accuracy = model.evaluate(X, y)\n",
    "print('Accuracy: %.2f' % (accuracy*100))"
   ]
  },
  {
   "cell_type": "markdown",
   "metadata": {},
   "source": [
    "## Test a sound"
   ]
  },
  {
   "cell_type": "code",
   "execution_count": null,
   "metadata": {},
   "outputs": [],
   "source": [
    "def path_class(filename):\n",
    "    excerpt = us8k_data[us8k_data['slice_file_name'] == filename]\n",
    "\n",
    "    path_name = os.path.join(urban_sound_folder + audio_folder, 'fold'+str(excerpt.fold.values[0]), filename)\n",
    "    return path_name, excerpt['classID'].values[0]"
   ]
  },
  {
   "cell_type": "code",
   "execution_count": null,
   "metadata": {},
   "outputs": [],
   "source": [
    "file_to_test = \"69661-3-0-29.wav\"\n",
    "path, expected_label = path_class(file_to_test)\n",
    "to_predict = [refine_sound(path)]\n",
    "\n",
    "print(\"Prediction:\", model.predict(to_predict))\n",
    "print(\"Expected:\", expected_label)"
   ]
  },
  {
   "cell_type": "code",
   "execution_count": null,
   "metadata": {},
   "outputs": [],
   "source": [
    "predictions = (model.predict(X) > 0.5).astype(int)\n",
    "# summarize the first 5 cases\n",
    "for i in range(5):\n",
    "\tprint('%s => %d (expected %d)' % (X[i], predictions[i], y[i]))"
   ]
  },
  {
   "cell_type": "code",
   "execution_count": null,
   "metadata": {},
   "outputs": [],
   "source": [
    "#pd.set_option('display.max_columns', None)\n",
    "#\n",
    "#appended = []\n",
    "#for i in range(1, 11):\n",
    "#    appended.append(us8k_data[us8k_data.fold == i]['class'].value_counts())\n",
    "#\n",
    "#class_distribution = pd.DataFrame(appended)\n",
    "#class_distribution = class_distribution.reset_index()\n",
    "#class_distribution['index'] = [\"fold\" + str(x) for x in range(1, 11)]\n",
    "#path, label = path_class(file_to_test)\n",
    "#\n",
    "#wav_plotter(path, label)"
   ]
  }
 ],
 "metadata": {
  "interpreter": {
   "hash": "39ee6d7bf780795f1443bd9d9e04493d660701157210cc3b955e42532b3da17a"
  },
  "kernelspec": {
   "display_name": "Python 3.10.4 64-bit (windows store)",
   "language": "python",
   "name": "python3"
  },
  "language_info": {
   "codemirror_mode": {
    "name": "ipython",
    "version": 3
   },
   "file_extension": ".py",
   "mimetype": "text/x-python",
   "name": "python",
   "nbconvert_exporter": "python",
   "pygments_lexer": "ipython3",
   "version": "3.10.4"
  },
  "orig_nbformat": 4
 },
 "nbformat": 4,
 "nbformat_minor": 2
}
